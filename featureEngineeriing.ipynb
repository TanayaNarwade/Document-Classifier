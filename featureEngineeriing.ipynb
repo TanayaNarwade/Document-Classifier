{
  "nbformat": 4,
  "nbformat_minor": 0,
  "metadata": {
    "colab": {
      "provenance": []
    },
    "kernelspec": {
      "name": "python3",
      "display_name": "Python 3"
    },
    "language_info": {
      "name": "python"
    }
  },
  "cells": [
    {
      "cell_type": "code",
      "execution_count": 2,
      "metadata": {
        "id": "hUTyWaiMNwEV",
        "outputId": "a77c5cde-4558-4ced-d000-061f825e648d",
        "colab": {
          "base_uri": "https://localhost:8080/"
        }
      },
      "outputs": [
        {
          "output_type": "stream",
          "name": "stdout",
          "text": [
            "Mounted at /content/drive\n"
          ]
        }
      ],
      "source": [
        "from google.colab import drive\n",
        "drive.mount('/content/drive')"
      ]
    },
    {
      "cell_type": "code",
      "source": [
        "import pandas, numpy, string, textblob\n",
        "import pickle\n",
        "from sklearn import model_selection, preprocessing, linear_model, naive_bayes, metrics, svm, decomposition, ensemble\n",
        "from sklearn.feature_extraction.text import TfidfVectorizer, CountVectorizer\n",
        "import xgboost\n",
        "from keras import layers, models, optimizers\n",
        "from keras.preprocessing import text, sequence\n",
        "import matplotlib.pyplot as plt"
      ],
      "metadata": {
        "id": "FpCfv9IS4U_-"
      },
      "execution_count": null,
      "outputs": []
    },
    {
      "cell_type": "code",
      "source": [
        "#Load training data\n",
        "df_train = pandas.read_csv('/content/drive/MyDrive/data/train.csv')\n",
        "# df_train = df_train.truncate(after=10000)\n",
        "#Load testing data\n",
        "df_test = pandas.read_csv('/content/drive/MyDrive/data/test.csv')"
      ],
      "metadata": {
        "id": "yhJgAbqk4bql"
      },
      "execution_count": null,
      "outputs": []
    },
    {
      "cell_type": "code",
      "source": [],
      "metadata": {
        "id": "gh79YdIY4_XU"
      },
      "execution_count": null,
      "outputs": []
    },
    {
      "cell_type": "code",
      "source": [
        "df_train.head()\n",
        "df_train.info()\n",
        "df_count = df_train.groupby(['Class Index'], as_index = False).agg({'Title': 'count', 'Description': 'count'})\n",
        "df_count.head()"
      ],
      "metadata": {
        "id": "SvQWlut74gCb"
      },
      "execution_count": null,
      "outputs": []
    },
    {
      "cell_type": "code",
      "source": [
        "df_train['Title'] = df_train['Title'].apply(perform_preprocessing)\n",
        "df_train['Description'] = df_train['Description'].apply(perform_preprocessing)\n",
        "df_test['Title'] = df_test['Title'].apply(perform_preprocessing)\n",
        "df_test['Description'] = df_test['Description'].apply(perform_preprocessing)"
      ],
      "metadata": {
        "id": "4iUjVBRO4hLF"
      },
      "execution_count": null,
      "outputs": []
    },
    {
      "cell_type": "code",
      "source": [
        "# Train test split\n",
        "X_train = df_train['Description']\n",
        "X_test = df_test['Description']\n",
        "y_train = df_train['Class Index']\n",
        "y_test = df_test['Class Index']"
      ],
      "metadata": {
        "id": "xJkS4D1F4vf3"
      },
      "execution_count": null,
      "outputs": []
    },
    {
      "cell_type": "code",
      "source": [
        "# Feature Engineering\n",
        "count_vect = CountVectorizer(analyzer='word', token_pattern=r'\\w{1,}')\n",
        "count_vect.fit(X_train)\n",
        "X_train_count =  count_vect.transform(X_train)\n",
        "X_test_count =  count_vect.transform(X_test)"
      ],
      "metadata": {
        "id": "J_3HmaXA40Ik"
      },
      "execution_count": null,
      "outputs": []
    },
    {
      "cell_type": "code",
      "source": [
        "# word level tf-idf\n",
        "tfidf_vect = TfidfVectorizer(analyzer='word', token_pattern=r'\\w{1,}', max_features=5000)\n",
        "tfidf_vect.fit(X_train)\n",
        "X_train_tfidf =  tfidf_vect.transform(X_train)\n",
        "X_test_tfidf =  tfidf_vect.transform(X_test)"
      ],
      "metadata": {
        "id": "II7_Fy0M41EI"
      },
      "execution_count": null,
      "outputs": []
    },
    {
      "cell_type": "code",
      "source": [
        "# ngram level tf-idf\n",
        "tfidf_vect_ngram = TfidfVectorizer(analyzer='word', token_pattern=r'\\w{1,}', ngram_range=(1,2), max_features=5000)\n",
        "tfidf_vect_ngram.fit(X_train)\n",
        "X_train_tfidf_ngram =  tfidf_vect_ngram.transform(X_train)\n",
        "X_test_tfidf_ngram =  tfidf_vect_ngram.transform(X_test)"
      ],
      "metadata": {
        "id": "zMCz9WMz44La"
      },
      "execution_count": null,
      "outputs": []
    },
    {
      "cell_type": "code",
      "source": [
        "# characters level tf-idf\n",
        "tfidf_vect_ngram_chars = TfidfVectorizer(analyzer='char', token_pattern=r'\\w{1,}', ngram_range=(2,3), max_features=5000)\n",
        "tfidf_vect_ngram_chars.fit(X_train)\n",
        "X_train_tfidf_ngram_chars =  tfidf_vect_ngram_chars.transform(X_train)\n",
        "X_test_tfidf_ngram_chars =  tfidf_vect_ngram_chars.transform(X_test)"
      ],
      "metadata": {
        "id": "0eubQNNA46SO"
      },
      "execution_count": null,
      "outputs": []
    },
    {
      "cell_type": "code",
      "source": [
        "# label encode the target variablea\n",
        "encoder = preprocessing.LabelEncoder()\n",
        "y_train = encoder.fit_transform(y_train)\n",
        "y_test = encoder.fit_transform(y_test)\n",
        "\n",
        "encoder = preprocessing.LabelBinarizer()\n",
        "encoder.fit(y_train)\n",
        "y_train_bi = encoder.transform(y_train)\n",
        "y_test_bi = encoder.transform(y_test)"
      ],
      "metadata": {
        "id": "bqgQuT9l488M"
      },
      "execution_count": null,
      "outputs": []
    }
  ]
}